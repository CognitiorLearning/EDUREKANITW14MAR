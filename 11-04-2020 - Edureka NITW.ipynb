{
 "cells": [
  {
   "cell_type": "code",
   "execution_count": 1,
   "metadata": {},
   "outputs": [],
   "source": [
    "x=10"
   ]
  },
  {
   "cell_type": "code",
   "execution_count": 3,
   "metadata": {},
   "outputs": [
    {
     "name": "stdout",
     "output_type": "stream",
     "text": [
      "<class 'int'>\n"
     ]
    }
   ],
   "source": [
    "print(type(x))\n",
    "\n",
    "When we are creating a function without class - Functional programming \n",
    "when we are creating a function/method with class - OOPs\n",
    "    \n",
    "    "
   ]
  },
  {
   "cell_type": "code",
   "execution_count": 2,
   "metadata": {},
   "outputs": [],
   "source": [
    "#Class - Blue print \n",
    "#Object - Physical existence of the blue print "
   ]
  },
  {
   "cell_type": "code",
   "execution_count": 9,
   "metadata": {},
   "outputs": [
    {
     "name": "stdout",
     "output_type": "stream",
     "text": [
      "Hello, I am : Rahul\n",
      "My age is: 34\n",
      "My marks is: 85\n",
      "Hello, I am : Rohan\n",
      "My age is: 34\n",
      "My marks is: 85\n"
     ]
    }
   ],
   "source": [
    "#Constructor is a special method in python \n",
    "#The name of the constructor should be always __init__\n",
    "#Construtor will be executed automatically whenever we are creating an object \n",
    "#Objective of construtor is to declare object related variables and perform initailzation \n",
    "#Constructor will execute once per object \n",
    "#Minimum one arguement should be there i.e. self \n",
    "class Student:\n",
    "    def __init__(self):       #constructor \n",
    "        self.name = 'Rahul'\n",
    "        self.age = 34\n",
    "        self.marks = 85\n",
    "        \n",
    "    def talk(self):\n",
    "        print('Hello, I am :', self.name)\n",
    "        print('My age is:', self.age)\n",
    "        print('My marks is:', self.marks)\n",
    "s1 = Student()  \n",
    "s1.talk()\n",
    "s2 = Student()\n",
    "s2.name='Rohan'\n",
    "s2.talk()"
   ]
  },
  {
   "cell_type": "code",
   "execution_count": 19,
   "metadata": {},
   "outputs": [
    {
     "name": "stdout",
     "output_type": "stream",
     "text": [
      "Hello my name is: Rohan\n",
      "Hello rollno is: 34\n",
      "Hello marks is: 65\n"
     ]
    }
   ],
   "source": [
    "class Student: \n",
    "    def __init__(edureka, name, rollno, marks):\n",
    "        edureka.name = name \n",
    "        edureka.rollno = rollno\n",
    "        edureka.marks = marks \n",
    "    #instance variables \n",
    "    \n",
    "    def talk(edureka):\n",
    "        print('Hello my name is:', edureka.name)\n",
    "        print('Hello rollno is:', edureka.rollno)\n",
    "        print('Hello marks is:', edureka.marks)\n",
    "        \n",
    "s1 = Student('Rohan',34,65)  \n",
    "s1.talk()"
   ]
  },
  {
   "cell_type": "code",
   "execution_count": 20,
   "metadata": {},
   "outputs": [],
   "source": [
    "#what is self: \n",
    "#Self is python implicit default variable which will always pointing to current object \n",
    "#Self will always be the 1st arguement in the constructor \n",
    "#self id the 1st arguement in the instance as well"
   ]
  },
  {
   "cell_type": "code",
   "execution_count": 22,
   "metadata": {},
   "outputs": [
    {
     "name": "stdout",
     "output_type": "stream",
     "text": [
      "no arg constructor\n"
     ]
    }
   ],
   "source": [
    "class Test: \n",
    "    def __init__(self, x):\n",
    "        print('one arg construtor', x)\n",
    "    def __init__(self):\n",
    "        print('no arg constructor')\n",
    "\n",
    "t1 = Test()"
   ]
  },
  {
   "cell_type": "code",
   "execution_count": 23,
   "metadata": {},
   "outputs": [],
   "source": [
    "class Movie: \n",
    "    def __init__(self, name, hero, heroine, rating):\n",
    "        self.name = name\n",
    "        self.hero = hero\n",
    "        self.heroine = heroine\n",
    "        self.rating = rating\n",
    "        #Instance variables (Object level)\n",
    "    def info(self):\n",
    "        print('Movie name: ', self.name)\n",
    "        print('Hero name: ', self.hero)\n",
    "        print('Heroine name: ', self.heroine)\n",
    "        print('Movie rating: ', self.rating)        "
   ]
  },
  {
   "cell_type": "code",
   "execution_count": 24,
   "metadata": {},
   "outputs": [],
   "source": [
    "movies = [Movie('Bahubali', 'Prabhas', 'Anuskha', 99),\n",
    "         Movie('Sultan','Salam','Anuskha',90),\n",
    "         Movie('Rayees','Shahrukh', 'Kajol',80)]"
   ]
  },
  {
   "cell_type": "code",
   "execution_count": 25,
   "metadata": {},
   "outputs": [
    {
     "name": "stdout",
     "output_type": "stream",
     "text": [
      "Movie name:  Bahubali\n",
      "Hero name:  Prabhas\n",
      "Heroine name:  Anuskha\n",
      "Movie rating:  99\n",
      "Movie name:  Sultan\n",
      "Hero name:  Salam\n",
      "Heroine name:  Anuskha\n",
      "Movie rating:  90\n",
      "Movie name:  Rayees\n",
      "Hero name:  Shahrukh\n",
      "Heroine name:  Kajol\n",
      "Movie rating:  80\n"
     ]
    }
   ],
   "source": [
    "for movie in movies:\n",
    "    movie.info()"
   ]
  },
  {
   "cell_type": "code",
   "execution_count": 26,
   "metadata": {},
   "outputs": [],
   "source": [
    "#Static variable - Not required to maintain seperate copy for objects"
   ]
  },
  {
   "cell_type": "code",
   "execution_count": 27,
   "metadata": {},
   "outputs": [],
   "source": [
    "class Test:\n",
    "    a=10\n",
    "    def __init__(self):\n",
    "        self.b=20\n",
    "        self.a=1000\n",
    "        "
   ]
  },
  {
   "cell_type": "code",
   "execution_count": 30,
   "metadata": {},
   "outputs": [
    {
     "name": "stdout",
     "output_type": "stream",
     "text": [
      "888\n"
     ]
    }
   ],
   "source": [
    "t=Test()\n",
    "print(t.a)"
   ]
  },
  {
   "cell_type": "code",
   "execution_count": 29,
   "metadata": {},
   "outputs": [],
   "source": [
    "Test.a=888"
   ]
  },
  {
   "cell_type": "code",
   "execution_count": 31,
   "metadata": {},
   "outputs": [],
   "source": [
    "t.a=1000"
   ]
  },
  {
   "cell_type": "code",
   "execution_count": 32,
   "metadata": {},
   "outputs": [],
   "source": [
    "t1=Test()"
   ]
  },
  {
   "cell_type": "code",
   "execution_count": 34,
   "metadata": {},
   "outputs": [
    {
     "name": "stdout",
     "output_type": "stream",
     "text": [
      "1000 20\n",
      "888 20\n"
     ]
    }
   ],
   "source": [
    "print(t.a, t.b)\n",
    "print(t1.a, t1.b)\n",
    "Test.c=100"
   ]
  },
  {
   "cell_type": "code",
   "execution_count": 35,
   "metadata": {},
   "outputs": [
    {
     "name": "stdout",
     "output_type": "stream",
     "text": [
      "{'__module__': '__main__', 'a': 888, '__init__': <function Test.__init__ at 0x000001D9C9538CA8>, '__dict__': <attribute '__dict__' of 'Test' objects>, '__weakref__': <attribute '__weakref__' of 'Test' objects>, '__doc__': None, 'c': 100}\n"
     ]
    }
   ],
   "source": [
    "print(Test.__dict__)"
   ]
  },
  {
   "cell_type": "code",
   "execution_count": 36,
   "metadata": {},
   "outputs": [],
   "source": [
    "class Polygon:\n",
    "    __width = None\n",
    "    __height = None\n",
    "    \n",
    "    def set_values(self, width, height):\n",
    "        self.__width = width\n",
    "        self.__height = height\n",
    "    def get_width(self):\n",
    "        return self.__width\n",
    "    def get_height(self):\n",
    "        return self.__height\n"
   ]
  },
  {
   "cell_type": "code",
   "execution_count": 37,
   "metadata": {},
   "outputs": [],
   "source": [
    "class Square(Polygon):\n",
    "    def area(self):\n",
    "        return self.get_width()*self.get_height()"
   ]
  },
  {
   "cell_type": "code",
   "execution_count": 38,
   "metadata": {},
   "outputs": [],
   "source": [
    "class Triangle(Polygon):\n",
    "    def area(self):\n",
    "        return self.get_width()* self.get_height()*1/2"
   ]
  },
  {
   "cell_type": "code",
   "execution_count": 42,
   "metadata": {},
   "outputs": [
    {
     "data": {
      "text/plain": [
       "120"
      ]
     },
     "execution_count": 42,
     "metadata": {},
     "output_type": "execute_result"
    }
   ],
   "source": [
    "s1 = Square()\n",
    "s1.set_values(8,15)\n",
    "s1.area()"
   ]
  },
  {
   "cell_type": "code",
   "execution_count": 44,
   "metadata": {},
   "outputs": [
    {
     "data": {
      "text/plain": [
       "60.0"
      ]
     },
     "execution_count": 44,
     "metadata": {},
     "output_type": "execute_result"
    }
   ],
   "source": [
    "t1 = Triangle()\n",
    "t1.set_values(8,15)\n",
    "t1.area()"
   ]
  },
  {
   "cell_type": "code",
   "execution_count": 45,
   "metadata": {},
   "outputs": [],
   "source": [
    "class Salary: \n",
    "    def __init__(self, pay, reward):\n",
    "        self.pay= pay\n",
    "        self.reward = reward\n",
    "    def annual_salary(self):\n",
    "        return (self.pay*12) + self.reward"
   ]
  },
  {
   "cell_type": "code",
   "execution_count": 59,
   "metadata": {},
   "outputs": [],
   "source": [
    "class Employee:\n",
    "    def __init__(self, name, position,pay,reward):\n",
    "        self.name = name\n",
    "        self.position = position\n",
    "        self.final_salary = Salary(pay, reward)\n",
    "        print(self.final_salary)\n",
    "    \n",
    "        "
   ]
  },
  {
   "cell_type": "code",
   "execution_count": 60,
   "metadata": {},
   "outputs": [
    {
     "name": "stdout",
     "output_type": "stream",
     "text": [
      "<__main__.Salary object at 0x000001D9C9459C88>\n"
     ]
    }
   ],
   "source": [
    "emp = Employee('Rahul','PyDev',100000,1000)"
   ]
  },
  {
   "cell_type": "code",
   "execution_count": null,
   "metadata": {},
   "outputs": [],
   "source": []
  },
  {
   "cell_type": "code",
   "execution_count": 53,
   "metadata": {},
   "outputs": [
    {
     "name": "stdout",
     "output_type": "stream",
     "text": [
      "1201000\n"
     ]
    }
   ],
   "source": [
    "print(emp.final_salary_m())"
   ]
  },
  {
   "cell_type": "code",
   "execution_count": 61,
   "metadata": {},
   "outputs": [],
   "source": [
    "#Multi level inheritance "
   ]
  },
  {
   "cell_type": "code",
   "execution_count": 62,
   "metadata": {},
   "outputs": [],
   "source": [
    "import pandas as pd"
   ]
  },
  {
   "cell_type": "code",
   "execution_count": 63,
   "metadata": {},
   "outputs": [],
   "source": [
    "import os\n",
    "os.chdir(r'C:\\Users\\Admin\\Desktop')"
   ]
  },
  {
   "cell_type": "code",
   "execution_count": null,
   "metadata": {},
   "outputs": [],
   "source": []
  }
 ],
 "metadata": {
  "kernelspec": {
   "display_name": "Python 3",
   "language": "python",
   "name": "python3"
  },
  "language_info": {
   "codemirror_mode": {
    "name": "ipython",
    "version": 3
   },
   "file_extension": ".py",
   "mimetype": "text/x-python",
   "name": "python",
   "nbconvert_exporter": "python",
   "pygments_lexer": "ipython3",
   "version": "3.7.4"
  }
 },
 "nbformat": 4,
 "nbformat_minor": 2
}
